{
  "nbformat": 4,
  "nbformat_minor": 0,
  "metadata": {
    "colab": {
      "provenance": [],
      "authorship_tag": "ABX9TyPT6mGkxK83hGlA4suWAEI/",
      "include_colab_link": true
    },
    "kernelspec": {
      "name": "python3",
      "display_name": "Python 3"
    },
    "language_info": {
      "name": "python"
    }
  },
  "cells": [
    {
      "cell_type": "markdown",
      "metadata": {
        "id": "view-in-github",
        "colab_type": "text"
      },
      "source": [
        "<a href=\"https://colab.research.google.com/github/hahaslav/Labworks_SMAM_Lab_2/blob/main/%D0%86%D0%BC%D1%96%D1%82%D0%B0%D1%86%D1%96%D0%B9%D0%BD%D0%B5_%D0%BC%D0%BE%D0%B4%D0%B5%D0%BB%D1%8E%D0%B2%D0%B0%D0%BD%D0%BD%D1%8F_%D0%B2_%D1%82%D0%B5%D0%BE%D1%80%D1%96%D1%97_%D0%B9%D0%BC%D0%BE%D0%B2%D1%96%D1%80%D0%BD%D0%BE%D1%81%D1%82%D1%96.ipynb\" target=\"_parent\"><img src=\"https://colab.research.google.com/assets/colab-badge.svg\" alt=\"Open In Colab\"/></a>"
      ]
    },
    {
      "cell_type": "markdown",
      "source": [
        "# Робота №2\n",
        "\n",
        "## Імітаційне моделювання в теорії ймовірності\n",
        "\n",
        "Роботу виконала Бригада №1 у складі: Панчук Ігор(ком.), Шеметов Ярослав та Попович Марія."
      ],
      "metadata": {
        "id": "5Ccy6aG_ETGo"
      }
    },
    {
      "cell_type": "markdown",
      "source": [
        "#### Імпорт необхідних бібліотек"
      ],
      "metadata": {
        "id": "sPRytNJpEdtu"
      }
    },
    {
      "cell_type": "code",
      "source": [
        "import pandas as pd\n",
        "import numpy as np\n",
        "from scipy import stats\n",
        "import statsmodels.api as sm\n",
        "import matplotlib.pyplot as plt"
      ],
      "metadata": {
        "id": "msM7tQ_aEhvI"
      },
      "execution_count": 1,
      "outputs": []
    },
    {
      "cell_type": "markdown",
      "source": [
        "### 1. Моделювання вибірок"
      ],
      "metadata": {
        "id": "ABAx7sIzE-0P"
      }
    },
    {
      "cell_type": "code",
      "source": [
        "rand_exp = np.random.exponential(scale=1, size=100)\n",
        "rand_norm = np.random.normal(loc=0, scale=2, size=1000)\n",
        "rand_extrem = stats.genextreme.rvs(c=1, loc=0, scale=1, size=10000)"
      ],
      "metadata": {
        "id": "Vyqel0rfE_9w"
      },
      "execution_count": 2,
      "outputs": []
    },
    {
      "cell_type": "markdown",
      "source": [
        "### 2. Перевірка належності до розподілів"
      ],
      "metadata": {
        "id": "8oytTOGqHL8E"
      }
    },
    {
      "cell_type": "markdown",
      "source": [
        "#### 2.1) Критерій Колмогорова-Смирнова"
      ],
      "metadata": {
        "id": "qSGVGtK_HSoI"
      }
    },
    {
      "cell_type": "code",
      "source": [
        "# Estimate the lambda parameter for the exponential distribution\n",
        "lambda_estimate = 1 / np.mean(rand_exp)\n",
        "\n",
        "# Perform the K-S test against an exponential distribution with the estimated lambda\n",
        "exp_ks_statistic, exp_p_value = stats.kstest(rand_exp, 'expon', args=(0, 1/lambda_estimate))\n",
        "\n",
        "print(f\"Exponential Distribution: KS Statistic = {exp_ks_statistic:f}, p-value = {exp_p_value:f}\")\n",
        "\n",
        "# Estimate the parameters for the normal distribution (mean and std)\n",
        "mean_estimate = np.mean(rand_norm)\n",
        "std_estimate = np.std(rand_norm)\n",
        "\n",
        "# Perform the K-S test against a normal distribution with the estimated parameters\n",
        "normal_ks_statistic, normal_p_value = stats.kstest(rand_norm, 'norm', args=(mean_estimate, std_estimate))\n",
        "\n",
        "print(f\"Normal Distribution: KS Statistic = {normal_ks_statistic:f}, p-value = {normal_p_value:f}\")\n",
        "\n",
        "shape, loc, scale = stats.genextreme.fit(rand_extrem)\n",
        "\n",
        "# Perform the K-S test against the GEV distribution\n",
        "extrem_ks_statistic, extrem_p_value = stats.kstest(rand_extrem, 'genextreme', args=(shape, loc, scale))\n",
        "\n",
        "print(f\"GEV Distribution: KS Statistic = {extrem_ks_statistic:f}, p-value = {extrem_p_value:f}\")"
      ],
      "metadata": {
        "id": "pEFL1CxcFJel",
        "colab": {
          "base_uri": "https://localhost:8080/"
        },
        "outputId": "edcc5bcd-79b7-4517-84f2-b93769961695"
      },
      "execution_count": 3,
      "outputs": [
        {
          "output_type": "stream",
          "name": "stdout",
          "text": [
            "Exponential Distribution: KS Statistic = 0.175907, p-value = 0.003542\n",
            "Normal Distribution: KS Statistic = 0.023541, p-value = 0.627781\n",
            "GEV Distribution: KS Statistic = 0.022219, p-value = 0.000101\n"
          ]
        }
      ]
    },
    {
      "cell_type": "markdown",
      "source": [
        "#### 2.2) Критерій $\\omega^2$"
      ],
      "metadata": {
        "id": "eLjSiPwNH7m2"
      }
    },
    {
      "cell_type": "code",
      "source": [
        "# Calculate the ECDF\n",
        "def ecdf(data):\n",
        "    n = len(data)\n",
        "    x = np.sort(data)\n",
        "    y = np.arange(1, n + 1) / n\n",
        "    return x, y\n",
        "\n",
        "exp_x, exp_ecdf_values = ecdf(rand_exp)\n",
        "normal_x, normal_ecdf_values = ecdf(rand_norm)\n",
        "extrem_x, extrem_ecdf_values = ecdf(rand_extrem)\n",
        "\n",
        "# Estimate parameters of the distributions\n",
        "# Exponential Distribution (estimate lambda)\n",
        "lambda_exp = 1 / np.mean(rand_exp)\n",
        "\n",
        "# Normal Distribution (estimate mean and std)\n",
        "mu, std = np.mean(rand_norm), np.std(rand_norm)\n",
        "\n",
        "# Extreme Value Distribution (Gumbel) parameters\n",
        "params_extreme = stats.gumbel_r.fit(rand_extrem)\n",
        "\n",
        "# Compute the theoretical CDFs for each distribution\n",
        "# Exponential CDF\n",
        "cdf_exp = stats.expon.cdf(exp_x, scale=1/lambda_exp)\n",
        "\n",
        "# Normal CDF\n",
        "cdf_normal = stats.norm.cdf(normal_x, loc=mu, scale=std)\n",
        "\n",
        "# Extreme Value CDF\n",
        "cdf_extreme = stats.gumbel_r.cdf(extrem_x, *params_extreme)\n",
        "\n",
        "# Calculate the ω² statistic for each distribution\n",
        "def omega_squared(ecdf_values, cdf_values):\n",
        "    n = len(ecdf_values)\n",
        "    omega2 = np.sum((cdf_values - (2 * np.arange(1, n + 1) - 1) / (2 * n))**2) + 1 / (12 * n)\n",
        "    p_value = stats.kstwobign.sf(np.sqrt(n) * np.sqrt(omega2))\n",
        "    return omega2, p_value\n",
        "\n",
        "# Calculate ω² for each distribution\n",
        "omega2_exp, o_p_exp = omega_squared(exp_ecdf_values, cdf_exp)\n",
        "omega2_norm, o_p_norm = omega_squared(normal_ecdf_values, cdf_normal)\n",
        "omega2_extrem, o_p_extrem = omega_squared(extrem_ecdf_values, cdf_extreme)\n",
        "\n",
        "print(f\"ω² for Exponential Distribution: {omega2_exp:f}, p-value: {o_p_exp}\")\n",
        "print(f\"ω² for Normal Distribution: {omega2_norm:f}, p-value: {o_p_norm}\")\n",
        "print(f\"ω² for Extreme Value Distribution: {omega2_extrem:f}, p-value: {o_p_extrem}\")"
      ],
      "metadata": {
        "colab": {
          "base_uri": "https://localhost:8080/"
        },
        "id": "FHQKvkwmIAkN",
        "outputId": "eac3a1f8-50a5-4bff-ee45-4f0471201dbf"
      },
      "execution_count": 4,
      "outputs": [
        {
          "output_type": "stream",
          "name": "stdout",
          "text": [
            "ω² for Exponential Distribution: 0.724833, p-value: 2.2022909055297987e-63\n",
            "ω² for Normal Distribution: 0.075323, p-value: 7.525973133445612e-66\n",
            "ω² for Extreme Value Distribution: 193.754125, p-value: 0.0\n"
          ]
        }
      ]
    },
    {
      "cell_type": "markdown",
      "source": [
        "#### 2.3) Критерій $\\chi^2$"
      ],
      "metadata": {
        "id": "cVux4HGeIjFD"
      }
    },
    {
      "cell_type": "code",
      "source": [
        "# Functions to perform chi-squared tests\n",
        "def chi_squared_test(observed_freq, expected_freq):\n",
        "    # Normalize the expected frequencies to match the sum of the observed frequencies\n",
        "    expected_freq *= observed_freq.sum() / expected_freq.sum()\n",
        "\n",
        "    chi2_stat, p_value = stats.chisquare(f_obs=observed_freq, f_exp=expected_freq)\n",
        "    return chi2_stat, p_value\n",
        "\n",
        "def test_exponential_distribution(data):\n",
        "    num_bins = 10\n",
        "    observed_freq, bin_edges = np.histogram(data, bins=num_bins)\n",
        "    bin_centers = (bin_edges[:-1] + bin_edges[1:]) / 2\n",
        "\n",
        "    # Fit the exponential distribution to the data\n",
        "    loc, scale = stats.expon.fit(data)\n",
        "\n",
        "    # Calculate expected frequencies based on the fitted distribution\n",
        "    expected_freq = np.diff(stats.expon.cdf(bin_edges, loc=loc, scale=scale)) * len(data)\n",
        "\n",
        "    # Perform chi-squared test\n",
        "    chi2_stat, p_value = chi_squared_test(observed_freq, expected_freq)\n",
        "    print(f\"Exponential Distribution: Chi2 Stat={chi2_stat:f}, p-value={p_value:f}\")\n",
        "    return p_value\n",
        "\n",
        "def test_normal_distribution(data):\n",
        "    num_bins = 10\n",
        "    observed_freq, bin_edges = np.histogram(data, bins=num_bins)\n",
        "    bin_centers = (bin_edges[:-1] + bin_edges[1:]) / 2\n",
        "\n",
        "    # Fit the normal distribution to the data\n",
        "    mu, std = stats.norm.fit(data)\n",
        "\n",
        "    # Calculate expected frequencies based on the fitted distribution\n",
        "    expected_freq = np.diff(stats.norm.cdf(bin_edges, loc=mu, scale=std)) * len(data)\n",
        "\n",
        "    # Perform chi-squared test\n",
        "    chi2_stat, p_value = chi_squared_test(observed_freq, expected_freq)\n",
        "    print(f\"Normal Distribution: Chi2 Stat={chi2_stat:f}, p-value={p_value:f}\")\n",
        "    return p_value\n",
        "\n",
        "def test_extreme_value_distribution(data):\n",
        "    num_bins = 10\n",
        "    observed_freq, bin_edges = np.histogram(data, bins=num_bins)\n",
        "    bin_centers = (bin_edges[:-1] + bin_edges[1:]) / 2\n",
        "\n",
        "    # Fit the Gumbel (extreme value type 1) distribution to the data\n",
        "    loc, scale = stats.gumbel_r.fit(data)\n",
        "\n",
        "    # Calculate expected frequencies based on the fitted distribution\n",
        "    expected_freq = np.diff(stats.gumbel_r.cdf(bin_edges, loc=loc, scale=scale)) * len(data)\n",
        "\n",
        "    # Perform chi-squared test\n",
        "    chi2_stat, p_value = chi_squared_test(observed_freq, expected_freq)\n",
        "    print(f\"Extreme Value Distribution: Chi2 Stat={chi2_stat:f}, p-value={p_value:f}\")\n",
        "    return p_value\n",
        "\n",
        "# Run the tests\n",
        "chi_exp = test_exponential_distribution(rand_exp)\n",
        "chi_norm = test_normal_distribution(rand_norm)\n",
        "chi_extrem = test_extreme_value_distribution(rand_extrem)"
      ],
      "metadata": {
        "colab": {
          "base_uri": "https://localhost:8080/"
        },
        "id": "lEA0qvfJIU5X",
        "outputId": "825730a5-bf12-4e38-cae1-95ec8c66e513"
      },
      "execution_count": 5,
      "outputs": [
        {
          "output_type": "stream",
          "name": "stdout",
          "text": [
            "Exponential Distribution: Chi2 Stat=19.134821, p-value=0.024071\n",
            "Normal Distribution: Chi2 Stat=6.522188, p-value=0.686729\n",
            "Extreme Value Distribution: Chi2 Stat=120105387065523187054255442485852178684596564085895593984.000000, p-value=0.000000\n"
          ]
        }
      ]
    },
    {
      "cell_type": "markdown",
      "source": [
        "### 3. Графічний аналіз гістограм та normal probability plot"
      ],
      "metadata": {
        "id": "l8zOreUvZYn2"
      }
    },
    {
      "cell_type": "code",
      "source": [
        "plt.hist(rand_exp, bins=10, edgecolor='black')\n",
        "plt.title('Histogram of rand_exp')\n",
        "plt.show()\n",
        "\n",
        "stats.probplot(rand_exp, dist=\"norm\", plot=plt)\n",
        "plt.title('Normal Probability Plot of rand_exp')\n",
        "plt.show()\n",
        "\n",
        "plt.hist(rand_norm, bins=10, edgecolor='black')\n",
        "plt.title('Histogram of rand_norm')\n",
        "plt.show()\n",
        "\n",
        "stats.probplot(rand_norm, dist=\"norm\", plot=plt)\n",
        "plt.title('Normal Probability Plot of rand_norm')\n",
        "plt.show()\n",
        "\n",
        "plt.hist(rand_extrem, bins=10, edgecolor='black')\n",
        "plt.title('Histogram of rand_extrem')\n",
        "plt.show()\n",
        "\n",
        "stats.probplot(rand_extrem, dist=\"norm\", plot=plt)\n",
        "plt.title('Normal Probability Plot of rand_extrem')\n",
        "plt.show()"
      ],
      "metadata": {
        "colab": {
          "base_uri": "https://localhost:8080/",
          "height": 1000
        },
        "id": "J8sB4xiwWQ4Z",
        "outputId": "15fa9d16-9d10-49aa-f0e0-c331d6efdc2d"
      },
      "execution_count": 6,
      "outputs": [
        {
          "output_type": "display_data",
          "data": {
            "text/plain": [
              "<Figure size 640x480 with 1 Axes>"
            ],
            "image/png": "[encoded data removed]"
          },
          "metadata": {}
        },
        {
          "output_type": "display_data",
          "data": {
            "text/plain": [
              "<Figure size 640x480 with 1 Axes>"
            ],
            "image/png": "[encoded data removed]"
          },
          "metadata": {}
        },
        {
          "output_type": "display_data",
          "data": {
            "text/plain": [
              "<Figure size 640x480 with 1 Axes>"
            ],
            "image/png": "[encoded data removed]"
          },
          "metadata": {}
        },
        {
          "output_type": "display_data",
          "data": {
            "text/plain": [
              "<Figure size 640x480 with 1 Axes>"
            ],
            "image/png": "[encoded data removed]"
          },
          "metadata": {}
        },
        {
          "output_type": "display_data",
          "data": {
            "text/plain": [
              "<Figure size 640x480 with 1 Axes>"
            ],
            "image/png": "[encoded data removed]"
          },
          "metadata": {}
        },
        {
          "output_type": "display_data",
          "data": {
            "text/plain": [
              "<Figure size 640x480 with 1 Axes>"
            ],
            "image/png": "[encoded data removed]"
          },
          "metadata": {}
        }
      ]
    },
    {
      "cell_type": "markdown",
      "source": [
        "### 4. Створення вибірки рівномірно розполідених чисел на (0, 1)"
      ],
      "metadata": {
        "id": "fiDiFJ4vapC_"
      }
    },
    {
      "cell_type": "code",
      "source": [
        "# np.random.rand() є аналогом СЛЧИС()/RAND() із Excel\n",
        "rand_200 = np.random.rand(200)\n",
        "rand_500 = np.random.rand(500)\n",
        "rand_5000 = np.random.rand(5000)"
      ],
      "metadata": {
        "id": "9sQfBO_Yawq1"
      },
      "execution_count": 7,
      "outputs": []
    },
    {
      "cell_type": "markdown",
      "source": [
        "### 5. Перевірка належності до розподілів"
      ],
      "metadata": {
        "id": "bKzmp3ircczW"
      }
    },
    {
      "cell_type": "markdown",
      "source": [
        "#### 5.1) Критерій Колмогорова-Смирнова"
      ],
      "metadata": {
        "id": "yzl_HXElcczZ"
      }
    },
    {
      "cell_type": "code",
      "source": [
        "# Perform the Kolmogorov-Smirnov test\n",
        "ks_statistic_200, ks_p_value_200 = stats.kstest(rand_200, 'uniform')\n",
        "ks_statistic_500, ks_p_value_500 = stats.kstest(rand_500, 'uniform')\n",
        "ks_statistic_5000, ks_p_value_5000 = stats.kstest(rand_5000, 'uniform')\n",
        "\n",
        "print(f\"n=200: KS Statistic: {ks_statistic_200:f}, P-value: {ks_p_value_200:f}\")\n",
        "print(f\"n=500: KS Statistic: {ks_statistic_500:f}, P-value: {ks_p_value_500:f}\")\n",
        "print(f\"n=5000: KS Statistic: {ks_statistic_5000:f}, P-value: {ks_p_value_5000:f}\")"
      ],
      "metadata": {
        "colab": {
          "base_uri": "https://localhost:8080/"
        },
        "outputId": "4aa2e635-c478-4555-d926-8fd53799258a",
        "id": "h967qH4Jccza"
      },
      "execution_count": 8,
      "outputs": [
        {
          "output_type": "stream",
          "name": "stdout",
          "text": [
            "n=200: KS Statistic: 0.058937, P-value: 0.472924\n",
            "n=500: KS Statistic: 0.054612, P-value: 0.097632\n",
            "n=5000: KS Statistic: 0.009622, P-value: 0.739782\n"
          ]
        }
      ]
    },
    {
      "cell_type": "markdown",
      "source": [
        "#### 5.2) Критерій $\\omega^2$"
      ],
      "metadata": {
        "id": "dy6PJkFccczb"
      }
    },
    {
      "cell_type": "code",
      "source": [
        "def omega_squared_test(data):\n",
        "    # Calculate the overall mean\n",
        "    overall_mean = np.mean(data)\n",
        "\n",
        "    # Calculate the group means and sizes\n",
        "    group_means = np.array([np.mean(group) for group in data])\n",
        "    group_sizes = np.array([len(group) for group in data])\n",
        "\n",
        "    # Calculate the total sum of squares\n",
        "    total_ss = np.sum([(x - overall_mean)**2 for group in data for x in group])\n",
        "\n",
        "    # Calculate the between-groups sum of squares\n",
        "    between_ss = np.sum(group_sizes * (group_means - overall_mean)**2)\n",
        "\n",
        "    # Calculate omega-squared\n",
        "    omega_squared = (between_ss - (len(data) - 1) * np.mean(group_sizes)) / (total_ss + np.mean(group_sizes))\n",
        "\n",
        "    # Perform one-way ANOVA\n",
        "    f_statistic, p_value = stats.f_oneway(*data)\n",
        "\n",
        "    return omega_squared, f_statistic, p_value\n",
        "\n",
        "omega_sq_200, f_stat_200, o_p_val_200 = omega_squared_test(np.array_split(rand_200[:198], 3))\n",
        "omega_sq_500, f_stat_500, o_p_val_500 = omega_squared_test(np.array_split(rand_500[:498], 3))\n",
        "omega_sq_5000, f_stat_5000, o_p_val_5000 = omega_squared_test(np.array_split(rand_5000[:4998], 3))\n",
        "\n",
        "print(f\"n=200: Omega-squared: {omega_sq_200:f}, F-statistic: {f_stat_200:f}, p-value: {o_p_val_200:f}\")\n",
        "print(f\"n=500: Omega-squared: {omega_sq_500:f}, F-statistic: {f_stat_500:f}, p-value: {o_p_val_500:f}\")\n",
        "print(f\"n=5000: Omega-squared: {omega_sq_5000:f}, F-statistic: {f_stat_5000:f}, p-value: {o_p_val_5000:f}\")"
      ],
      "metadata": {
        "colab": {
          "base_uri": "https://localhost:8080/"
        },
        "outputId": "2cfcb8a4-06a6-450b-bde8-2f2793e33bf4",
        "id": "sXCSD1dScczc"
      },
      "execution_count": 9,
      "outputs": [
        {
          "output_type": "stream",
          "name": "stdout",
          "text": [
            "n=200: Omega-squared: -1.644962, F-statistic: 2.601521, p-value: 0.076733\n",
            "n=500: Omega-squared: -1.594229, F-statistic: 1.286788, p-value: 0.277078\n",
            "n=5000: Omega-squared: -1.598035, F-statistic: 0.445312, p-value: 0.640650\n"
          ]
        }
      ]
    },
    {
      "cell_type": "markdown",
      "source": [
        "#### 5.3) Критерій $\\chi^2$"
      ],
      "metadata": {
        "id": "PHhFar4Jcczd"
      }
    },
    {
      "cell_type": "code",
      "source": [
        "# Get the observed frequencies\n",
        "observed_200 = np.unique(rand_200, return_counts=True)[1]\n",
        "observed_500 = np.unique(rand_500, return_counts=True)[1]\n",
        "observed_5000 = np.unique(rand_5000, return_counts=True)[1]\n",
        "\n",
        "# Calculate the expected frequencies (assuming homogeneous distribution)\n",
        "expected_200 = np.ones_like(observed_200) * np.mean(observed_200)\n",
        "expected_500 = np.ones_like(observed_500) * np.mean(observed_500)\n",
        "expected_5000 = np.ones_like(observed_5000) * np.mean(observed_5000)\n",
        "\n",
        "# Perform chi-square test\n",
        "chi2_statistic_200, c_p_value_200 = stats.chisquare(observed_200, expected_200)\n",
        "chi2_statistic_500, c_p_value_500 = stats.chisquare(observed_500, expected_500)\n",
        "chi2_statistic_5000, c_p_value_5000 = stats.chisquare(observed_5000, expected_5000)\n",
        "\n",
        "print(f\"n=200: Chi-square statistic: {chi2_statistic_200:f}, p-value: {c_p_value_200:f}\")\n",
        "print(f\"n=500: Chi-square statistic: {chi2_statistic_500:f}, p-value: {c_p_value_500:f}\")\n",
        "print(f\"n=5000: Chi-square statistic: {chi2_statistic_5000:f}, p-value: {c_p_value_5000:f}\")"
      ],
      "metadata": {
        "colab": {
          "base_uri": "https://localhost:8080/"
        },
        "outputId": "16845182-81bd-46c1-fc7b-45b57b95402d",
        "id": "yCb4P5krcczd"
      },
      "execution_count": 10,
      "outputs": [
        {
          "output_type": "stream",
          "name": "stdout",
          "text": [
            "n=200: Chi-square statistic: 0.000000, p-value: 1.000000\n",
            "n=500: Chi-square statistic: 0.000000, p-value: 1.000000\n",
            "n=5000: Chi-square statistic: 0.000000, p-value: 1.000000\n"
          ]
        }
      ]
    },
    {
      "cell_type": "markdown",
      "source": [
        "### 6. Робота із вибіркою X"
      ],
      "metadata": {
        "id": "ychryq7b_b9H"
      }
    },
    {
      "cell_type": "markdown",
      "source": [
        "#### 6.1) Завантаження вибірки X"
      ],
      "metadata": {
        "id": "_YIugeOTAi40"
      }
    },
    {
      "cell_type": "code",
      "source": [
        "!wget https://raw.githubusercontent.com/Mariya001/Labworks_SMAM/refs/heads/main/Lab1/IDL.csv"
      ],
      "metadata": {
        "colab": {
          "base_uri": "https://localhost:8080/"
        },
        "id": "rENhhSWEBMQa",
        "outputId": "7e55ceab-b09c-485b-e843-da5ed752f7c1"
      },
      "execution_count": 11,
      "outputs": [
        {
          "output_type": "stream",
          "name": "stdout",
          "text": [
            "--2024-11-15 23:04:37--  https://raw.githubusercontent.com/Mariya001/Labworks_SMAM/refs/heads/main/Lab1/IDL.csv\n",
            "Resolving raw.githubusercontent.com (raw.githubusercontent.com)... 185.199.108.133, 185.199.109.133, 185.199.110.133, ...\n",
            "Connecting to raw.githubusercontent.com (raw.githubusercontent.com)|185.199.108.133|:443... connected.\n",
            "HTTP request sent, awaiting response... 200 OK\n",
            "Length: 1801999 (1.7M) [text/plain]\n",
            "Saving to: ‘IDL.csv.1’\n",
            "\n",
            "IDL.csv.1           100%[===================>]   1.72M  --.-KB/s    in 0.07s   \n",
            "\n",
            "2024-11-15 23:04:37 (23.8 MB/s) - ‘IDL.csv.1’ saved [1801999/1801999]\n",
            "\n"
          ]
        }
      ]
    },
    {
      "cell_type": "code",
      "source": [
        "df = pd.read_csv('IDL.csv')\n",
        "\n",
        "# Filter rows where the DCOUNTRY column contains 'AUT'\n",
        "df_filtered = df[df['DCOUNTRY'] == 'AUT']\n",
        "\n",
        "# Select the column 'DAYS AFTER 105'\n",
        "X = np.array(df_filtered['DAYS AFTER 105'])\n",
        "\n",
        "# Display the filtered result\n",
        "print(X)"
      ],
      "metadata": {
        "colab": {
          "base_uri": "https://localhost:8080/"
        },
        "id": "lnITShwJAiP6",
        "outputId": "d094638a-dd6a-4b6a-91a8-bea57ec6854e"
      },
      "execution_count": 12,
      "outputs": [
        {
          "output_type": "stream",
          "name": "stdout",
          "text": [
            "[ 548  102  184   51   82  149    5 1004  200  322  260   64  341  356\n",
            "  214  168  680   65  669 1110  145 1005   50  119  825 1013  419  652\n",
            "  415   62    8   86  301   15   20  123    4 1676 1408 1965 1124  772\n",
            "  708 1215 1390 1051  448 1275  161  705 1165  186  210  130   33  417\n",
            "  587 1938   18  693 1164  751  536  208  896 1446   80  276  937  142\n",
            " 1057  535  402  265  733  658   12 1255  342 1186 1473   15 1737 1111\n",
            "  191  218  362  110  399  207  987   10 1030  223   71   34 1012  292\n",
            "   83  309  331   21  682  390  641  208 1135  603 2244  376   41 1473\n",
            "  189  135  318  197 1354   21  304  989  124 2216  787  306 2142   10\n",
            " 1556  890  188 1386  502  870  939  549   13   85  268  970  309  225\n",
            "  779  161    5  385  194 1639  345  665   72  419  464 1834  145  541\n",
            "  424 1556  399  219  345  260  579  441  554   72  604  231   25  438\n",
            "  187  246  349  527  182  981  445  375   95   17  322  741 1011  734\n",
            "   57  101 1286  478  127   43 1564  342  257  596 1133  198   32  159\n",
            "  782  132 1277  299 1346   40  982  686  313  415  304  629  328  976\n",
            "  785 1051  517  445  655   64  276 1181  207  530  233  640  676  285\n",
            "  439  909 1123  268   96  407  681 1054  255  417  234   49  527  175\n",
            "  392  714  190   35   79  236  291  242  100   18  177  297  490    4\n",
            "  484  481  246   56  495  203  216  390  109  212  294  164   17  136]\n"
          ]
        }
      ]
    },
    {
      "cell_type": "markdown",
      "source": [
        "#### 6.2) Критерій Колмогорова-Смирнова"
      ],
      "metadata": {
        "id": "6MobRzBVBmLx"
      }
    },
    {
      "cell_type": "code",
      "source": [
        "x_lambda_estimate = 1 / np.mean(X)\n",
        "x_exp_ks_statistic, x_exp_p_value = stats.kstest(X, 'expon', args=(0, 1/x_lambda_estimate))\n",
        "print(f\"Exponential Distribution: KS Statistic = {x_exp_ks_statistic:f}, p-value = {x_exp_p_value:f}\")\n",
        "\n",
        "x_mean_estimate = np.mean(X)\n",
        "x_std_estimate = np.std(X)\n",
        "x_normal_ks_statistic, x_normal_p_value = stats.kstest(X, 'norm', args=(x_mean_estimate, x_std_estimate))\n",
        "print(f\"Normal Distribution: KS Statistic = {x_normal_ks_statistic:f}, p-value = {x_normal_p_value:f}\")\n",
        "\n",
        "shape, loc, scale = stats.genextreme.fit(X)\n",
        "x_extrem_ks_statistic, x_extrem_p_value = stats.kstest(X, 'genextreme', args=(shape, loc, scale))\n",
        "print(f\"GEV Distribution: KS Statistic = {x_extrem_ks_statistic:f}, p-value = {x_extrem_p_value:f}\")"
      ],
      "metadata": {
        "colab": {
          "base_uri": "https://localhost:8080/"
        },
        "outputId": "31393e7f-dc22-4479-8bee-2a53f09134ae",
        "id": "V1n8DH6pBmLz"
      },
      "execution_count": 13,
      "outputs": [
        {
          "output_type": "stream",
          "name": "stdout",
          "text": [
            "Exponential Distribution: KS Statistic = 0.042393, p-value = 0.709040\n",
            "Normal Distribution: KS Statistic = 0.153745, p-value = 0.000006\n",
            "GEV Distribution: KS Statistic = 0.549707, p-value = 0.000000\n"
          ]
        }
      ]
    },
    {
      "cell_type": "markdown",
      "source": [
        "#### 6.3) Критерій $\\omega^2$"
      ],
      "metadata": {
        "id": "nD1P-8oABmL0"
      }
    },
    {
      "cell_type": "code",
      "source": [
        "x_exp_x, x_exp_ecdf_values = ecdf(X)\n",
        "x_normal_x, x_normal_ecdf_values = ecdf(X)\n",
        "x_extrem_x, x_extrem_ecdf_values = ecdf(X)\n",
        "x_lambda_exp = 1 / np.mean(X)\n",
        "mu, std = np.mean(rand_norm), np.std(X)\n",
        "x_params_extreme = stats.gumbel_r.fit(X)\n",
        "x_cdf_exp = stats.expon.cdf(x_exp_x, scale=1/x_lambda_exp)\n",
        "x_cdf_normal = stats.norm.cdf(x_normal_x, loc=mu, scale=std)\n",
        "x_cdf_extreme = stats.gumbel_r.cdf(x_extrem_x, *x_params_extreme)\n",
        "x_omega2_exp, x_o_p_exp = omega_squared(x_exp_ecdf_values, x_cdf_exp)\n",
        "x_omega2_norm, x_o_p_norm = omega_squared(x_normal_ecdf_values, x_cdf_normal)\n",
        "x_omega2_extrem, x_o_p_extrem = omega_squared(x_extrem_ecdf_values, x_cdf_extreme)\n",
        "print(f\"ω² for Exponential Distribution: {x_omega2_exp:f}, p-value: {x_o_p_exp}\")\n",
        "print(f\"ω² for Normal Distribution: {x_omega2_norm:f}, p-value: {x_o_p_norm}\")\n",
        "print(f\"ω² for Extreme Value Distribution: {x_omega2_extrem:f}, p-value: {x_o_p_extrem}\")"
      ],
      "metadata": {
        "colab": {
          "base_uri": "https://localhost:8080/"
        },
        "outputId": "74896fcb-bac4-4770-a14c-ce2316b27a61",
        "id": "ev6Do4-kBmL1"
      },
      "execution_count": 14,
      "outputs": [
        {
          "output_type": "stream",
          "name": "stdout",
          "text": [
            "ω² for Exponential Distribution: 0.054250, p-value: 5.844650817006868e-13\n",
            "ω² for Normal Distribution: 24.276557, p-value: 0.0\n",
            "ω² for Extreme Value Distribution: 0.738298, p-value: 5.263130018264242e-171\n"
          ]
        }
      ]
    },
    {
      "cell_type": "markdown",
      "source": [
        "#### 6.4) Критерій $\\chi^2$"
      ],
      "metadata": {
        "id": "ITBbT2wYBmL3"
      }
    },
    {
      "cell_type": "code",
      "source": [
        "x_chi_exp = test_exponential_distribution(X)\n",
        "x_chi_norm = test_normal_distribution(X)\n",
        "x_chi_extrem = test_extreme_value_distribution(X)"
      ],
      "metadata": {
        "colab": {
          "base_uri": "https://localhost:8080/"
        },
        "outputId": "70503e3d-04a5-44f3-eda0-a095c58c8bde",
        "id": "JsWEMQJbBmL3"
      },
      "execution_count": 15,
      "outputs": [
        {
          "output_type": "stream",
          "name": "stdout",
          "text": [
            "Exponential Distribution: Chi2 Stat=8.333885, p-value=0.500880\n",
            "Normal Distribution: Chi2 Stat=156.104142, p-value=0.000000\n",
            "Extreme Value Distribution: Chi2 Stat=58.729754, p-value=0.000000\n"
          ]
        }
      ]
    },
    {
      "cell_type": "markdown",
      "source": [
        "#### 6.5) Критерії для рівномірного розподілу"
      ],
      "metadata": {
        "id": "LpvBGkrqCOkU"
      }
    },
    {
      "cell_type": "code",
      "source": [
        "x_ks_statistic, x_ks_p_value = stats.kstest(X, 'uniform')\n",
        "x_omega_sq, x_f_stat, x_o_p_val = omega_squared_test(np.array_split(X[:len(X) - 2], 3))\n",
        "x_observed = np.unique(X, return_counts=True)[1]\n",
        "x_expected = np.ones_like(x_observed) * np.mean(x_observed)\n",
        "x_chi2_statistic, x_c_p_value = stats.chisquare(x_observed, x_expected)\n",
        "\n",
        "print(f\"X: KS Statistic: {x_ks_statistic:f}, P-value: {x_ks_p_value:f}\")\n",
        "print(f\"X: Omega-squared: {x_omega_sq:f}, F-statistic: {x_f_stat:f}, p-value: {x_o_p_val:f}\")\n",
        "print(f\"X: Chi-square statistic: {x_chi2_statistic:f}, p-value: {x_c_p_value:f}\")"
      ],
      "metadata": {
        "colab": {
          "base_uri": "https://localhost:8080/"
        },
        "outputId": "acf471d7-7d09-4616-ab4f-5c7b7099df4c",
        "id": "BqhJ6myoCOkW"
      },
      "execution_count": 16,
      "outputs": [
        {
          "output_type": "stream",
          "name": "stdout",
          "text": [
            "X: KS Statistic: 1.000000, P-value: 0.000000\n",
            "X: Omega-squared: 0.012703, F-statistic: 1.679411, p-value: 0.188493\n",
            "X: Chi-square statistic: 24.300752, p-value: 1.000000\n"
          ]
        }
      ]
    },
    {
      "cell_type": "markdown",
      "source": [
        "### 7. Представлення результатів у табличному вигляді"
      ],
      "metadata": {
        "id": "nFnuevLf4Yid"
      }
    },
    {
      "cell_type": "code",
      "source": [
        "pd.DataFrame({\n",
        "    \"Перевірка\": [\"на експоненційний розподіл\", \"на нормальний розподіл\", \"на розподіл екстремальних значень\", \"на рівномірний розподіл\", \"на рівномірний розподіл\", \"на рівномірний розподіл\", \"на експоненційний розподіл\", \"на нормальний розподіл\", \"на розподіл екстремальних значень\", \"на рівномірний розподіл\"],\n",
        "    \"Вибірка\": [\"rand_exp\", \"rand_norm\", \"rand_extrem\", \"rand_200\", \"rand_500\", \"rand_5000\", \"X\", \"X\", \"X\", \"X\"],\n",
        "    \"Критерій Колмогорова-Смирнова (p-value)\": [exp_p_value, normal_p_value, extrem_p_value, ks_p_value_200, ks_p_value_500, ks_p_value_5000, x_exp_p_value, x_normal_p_value, x_extrem_p_value, x_ks_p_value],\n",
        "    \"омега в квадраті (p-value)\": [o_p_exp, o_p_norm, o_p_extrem, o_p_val_200, o_p_val_500, o_p_val_5000, x_o_p_exp, x_o_p_norm, x_o_p_extrem, x_o_p_val],\n",
        "    \"ксі в квадраті (p-value)\": [chi_exp, chi_norm, chi_extrem, c_p_value_200, c_p_value_500, c_p_value_5000, x_chi_exp, x_chi_norm, x_chi_extrem, x_c_p_value]})"
      ],
      "metadata": {
        "colab": {
          "base_uri": "https://localhost:8080/",
          "height": 385
        },
        "id": "tv7j0r0U4Spl",
        "outputId": "f23fd5e3-5a2a-402b-cd70-e2f0bca4b769"
      },
      "execution_count": 18,
      "outputs": [
        {
          "output_type": "execute_result",
          "data": {
            "text/plain": [
              "                           Перевірка      Вибірка  \\\n",
              "0         на експоненційний розподіл     rand_exp   \n",
              "1             на нормальний розподіл    rand_norm   \n",
              "2  на розподіл екстремальних значень  rand_extrem   \n",
              "3            на рівномірний розподіл     rand_200   \n",
              "4            на рівномірний розподіл     rand_500   \n",
              "5            на рівномірний розподіл    rand_5000   \n",
              "6         на експоненційний розподіл            X   \n",
              "7             на нормальний розподіл            X   \n",
              "8  на розподіл екстремальних значень            X   \n",
              "9            на рівномірний розподіл            X   \n",
              "\n",
              "   Критерій Колмогорова-Смирнова (p-value)  омега в квадраті (p-value)  \\\n",
              "0                             3.542116e-03                2.202291e-63   \n",
              "1                             6.277806e-01                7.525973e-66   \n",
              "2                             1.014385e-04                0.000000e+00   \n",
              "3                             4.729245e-01                7.673337e-02   \n",
              "4                             9.763207e-02                2.770784e-01   \n",
              "5                             7.397816e-01                6.406500e-01   \n",
              "6                             7.090405e-01                5.844651e-13   \n",
              "7                             5.894109e-06                0.000000e+00   \n",
              "8                             5.296514e-76               5.263130e-171   \n",
              "9                             0.000000e+00                1.884927e-01   \n",
              "\n",
              "   ксі в квадраті (p-value)  \n",
              "0              2.407063e-02  \n",
              "1              6.867294e-01  \n",
              "2              0.000000e+00  \n",
              "3              1.000000e+00  \n",
              "4              1.000000e+00  \n",
              "5              1.000000e+00  \n",
              "6              5.008801e-01  \n",
              "7              4.783836e-29  \n",
              "8              2.353838e-09  \n",
              "9              1.000000e+00  "
            ],
            "text/html": [
              "\n",
              "  <div id=\"df-28ad4e4c-7f2b-4f76-aef8-160b956e6b4c\" class=\"colab-df-container\">\n",
              "    <div>\n",
              "<style scoped>\n",
              "    .dataframe tbody tr th:only-of-type {\n",
              "        vertical-align: middle;\n",
              "    }\n",
              "\n",
              "    .dataframe tbody tr th {\n",
              "        vertical-align: top;\n",
              "    }\n",
              "\n",
              "    .dataframe thead th {\n",
              "        text-align: right;\n",
              "    }\n",
              "</style>\n",
              "<table border=\"1\" class=\"dataframe\">\n",
              "  <thead>\n",
              "    <tr style=\"text-align: right;\">\n",
              "      <th></th>\n",
              "      <th>Перевірка</th>\n",
              "      <th>Вибірка</th>\n",
              "      <th>Критерій Колмогорова-Смирнова (p-value)</th>\n",
              "      <th>омега в квадраті (p-value)</th>\n",
              "      <th>ксі в квадраті (p-value)</th>\n",
              "    </tr>\n",
              "  </thead>\n",
              "  <tbody>\n",
              "    <tr>\n",
              "      <th>0</th>\n",
              "      <td>на експоненційний розподіл</td>\n",
              "      <td>rand_exp</td>\n",
              "      <td>3.542116e-03</td>\n",
              "      <td>2.202291e-63</td>\n",
              "      <td>2.407063e-02</td>\n",
              "    </tr>\n",
              "    <tr>\n",
              "      <th>1</th>\n",
              "      <td>на нормальний розподіл</td>\n",
              "      <td>rand_norm</td>\n",
              "      <td>6.277806e-01</td>\n",
              "      <td>7.525973e-66</td>\n",
              "      <td>6.867294e-01</td>\n",
              "    </tr>\n",
              "    <tr>\n",
              "      <th>2</th>\n",
              "      <td>на розподіл екстремальних значень</td>\n",
              "      <td>rand_extrem</td>\n",
              "      <td>1.014385e-04</td>\n",
              "      <td>0.000000e+00</td>\n",
              "      <td>0.000000e+00</td>\n",
              "    </tr>\n",
              "    <tr>\n",
              "      <th>3</th>\n",
              "      <td>на рівномірний розподіл</td>\n",
              "      <td>rand_200</td>\n",
              "      <td>4.729245e-01</td>\n",
              "      <td>7.673337e-02</td>\n",
              "      <td>1.000000e+00</td>\n",
              "    </tr>\n",
              "    <tr>\n",
              "      <th>4</th>\n",
              "      <td>на рівномірний розподіл</td>\n",
              "      <td>rand_500</td>\n",
              "      <td>9.763207e-02</td>\n",
              "      <td>2.770784e-01</td>\n",
              "      <td>1.000000e+00</td>\n",
              "    </tr>\n",
              "    <tr>\n",
              "      <th>5</th>\n",
              "      <td>на рівномірний розподіл</td>\n",
              "      <td>rand_5000</td>\n",
              "      <td>7.397816e-01</td>\n",
              "      <td>6.406500e-01</td>\n",
              "      <td>1.000000e+00</td>\n",
              "    </tr>\n",
              "    <tr>\n",
              "      <th>6</th>\n",
              "      <td>на експоненційний розподіл</td>\n",
              "      <td>X</td>\n",
              "      <td>7.090405e-01</td>\n",
              "      <td>5.844651e-13</td>\n",
              "      <td>5.008801e-01</td>\n",
              "    </tr>\n",
              "    <tr>\n",
              "      <th>7</th>\n",
              "      <td>на нормальний розподіл</td>\n",
              "      <td>X</td>\n",
              "      <td>5.894109e-06</td>\n",
              "      <td>0.000000e+00</td>\n",
              "      <td>4.783836e-29</td>\n",
              "    </tr>\n",
              "    <tr>\n",
              "      <th>8</th>\n",
              "      <td>на розподіл екстремальних значень</td>\n",
              "      <td>X</td>\n",
              "      <td>5.296514e-76</td>\n",
              "      <td>5.263130e-171</td>\n",
              "      <td>2.353838e-09</td>\n",
              "    </tr>\n",
              "    <tr>\n",
              "      <th>9</th>\n",
              "      <td>на рівномірний розподіл</td>\n",
              "      <td>X</td>\n",
              "      <td>0.000000e+00</td>\n",
              "      <td>1.884927e-01</td>\n",
              "      <td>1.000000e+00</td>\n",
              "    </tr>\n",
              "  </tbody>\n",
              "</table>\n",
              "</div>\n",
              "    <div class=\"colab-df-buttons\">\n",
              "\n",
              "  <div class=\"colab-df-container\">\n",
              "    <button class=\"colab-df-convert\" onclick=\"convertToInteractive('df-28ad4e4c-7f2b-4f76-aef8-160b956e6b4c')\"\n",
              "            title=\"Convert this dataframe to an interactive table.\"\n",
              "            style=\"display:none;\">\n",
              "\n",
              "  <svg xmlns=\"http://www.w3.org/2000/svg\" height=\"24px\" viewBox=\"0 -960 960 960\">\n",
              "    <path d=\"M120-120v-720h720v720H120Zm60-500h600v-160H180v160Zm220 220h160v-160H400v160Zm0 220h160v-160H400v160ZM180-400h160v-160H180v160Zm440 0h160v-160H620v160ZM180-180h160v-160H180v160Zm440 0h160v-160H620v160Z\"/>\n",
              "  </svg>\n",
              "    </button>\n",
              "\n",
              "  <style>\n",
              "    .colab-df-container {\n",
              "      display:flex;\n",
              "      gap: 12px;\n",
              "    }\n",
              "\n",
              "    .colab-df-convert {\n",
              "      background-color: #E8F0FE;\n",
              "      border: none;\n",
              "      border-radius: 50%;\n",
              "      cursor: pointer;\n",
              "      display: none;\n",
              "      fill: #1967D2;\n",
              "      height: 32px;\n",
              "      padding: 0 0 0 0;\n",
              "      width: 32px;\n",
              "    }\n",
              "\n",
              "    .colab-df-convert:hover {\n",
              "      background-color: #E2EBFA;\n",
              "      box-shadow: 0px 1px 2px rgba(60, 64, 67, 0.3), 0px 1px 3px 1px rgba(60, 64, 67, 0.15);\n",
              "      fill: #174EA6;\n",
              "    }\n",
              "\n",
              "    .colab-df-buttons div {\n",
              "      margin-bottom: 4px;\n",
              "    }\n",
              "\n",
              "    [theme=dark] .colab-df-convert {\n",
              "      background-color: #3B4455;\n",
              "      fill: #D2E3FC;\n",
              "    }\n",
              "\n",
              "    [theme=dark] .colab-df-convert:hover {\n",
              "      background-color: #434B5C;\n",
              "      box-shadow: 0px 1px 3px 1px rgba(0, 0, 0, 0.15);\n",
              "      filter: drop-shadow(0px 1px 2px rgba(0, 0, 0, 0.3));\n",
              "      fill: #FFFFFF;\n",
              "    }\n",
              "  </style>\n",
              "\n",
              "    <script>\n",
              "      const buttonEl =\n",
              "        document.querySelector('#df-28ad4e4c-7f2b-4f76-aef8-160b956e6b4c button.colab-df-convert');\n",
              "      buttonEl.style.display =\n",
              "        google.colab.kernel.accessAllowed ? 'block' : 'none';\n",
              "\n",
              "      async function convertToInteractive(key) {\n",
              "        const element = document.querySelector('#df-28ad4e4c-7f2b-4f76-aef8-160b956e6b4c');\n",
              "        const dataTable =\n",
              "          await google.colab.kernel.invokeFunction('convertToInteractive',\n",
              "                                                    [key], {});\n",
              "        if (!dataTable) return;\n",
              "\n",
              "        const docLinkHtml = 'Like what you see? Visit the ' +\n",
              "          '<a target=\"_blank\" href=https://colab.research.google.com/notebooks/data_table.ipynb>data table notebook</a>'\n",
              "          + ' to learn more about interactive tables.';\n",
              "        element.innerHTML = '';\n",
              "        dataTable['output_type'] = 'display_data';\n",
              "        await google.colab.output.renderOutput(dataTable, element);\n",
              "        const docLink = document.createElement('div');\n",
              "        docLink.innerHTML = docLinkHtml;\n",
              "        element.appendChild(docLink);\n",
              "      }\n",
              "    </script>\n",
              "  </div>\n",
              "\n",
              "\n",
              "<div id=\"df-23c7f201-84ab-4479-96d1-02993ecc70f4\">\n",
              "  <button class=\"colab-df-quickchart\" onclick=\"quickchart('df-23c7f201-84ab-4479-96d1-02993ecc70f4')\"\n",
              "            title=\"Suggest charts\"\n",
              "            style=\"display:none;\">\n",
              "\n",
              "<svg xmlns=\"http://www.w3.org/2000/svg\" height=\"24px\"viewBox=\"0 0 24 24\"\n",
              "     width=\"24px\">\n",
              "    <g>\n",
              "        <path d=\"M19 3H5c-1.1 0-2 .9-2 2v14c0 1.1.9 2 2 2h14c1.1 0 2-.9 2-2V5c0-1.1-.9-2-2-2zM9 17H7v-7h2v7zm4 0h-2V7h2v10zm4 0h-2v-4h2v4z\"/>\n",
              "    </g>\n",
              "</svg>\n",
              "  </button>\n",
              "\n",
              "<style>\n",
              "  .colab-df-quickchart {\n",
              "      --bg-color: #E8F0FE;\n",
              "      --fill-color: #1967D2;\n",
              "      --hover-bg-color: #E2EBFA;\n",
              "      --hover-fill-color: #174EA6;\n",
              "      --disabled-fill-color: #AAA;\n",
              "      --disabled-bg-color: #DDD;\n",
              "  }\n",
              "\n",
              "  [theme=dark] .colab-df-quickchart {\n",
              "      --bg-color: #3B4455;\n",
              "      --fill-color: #D2E3FC;\n",
              "      --hover-bg-color: #434B5C;\n",
              "      --hover-fill-color: #FFFFFF;\n",
              "      --disabled-bg-color: #3B4455;\n",
              "      --disabled-fill-color: #666;\n",
              "  }\n",
              "\n",
              "  .colab-df-quickchart {\n",
              "    background-color: var(--bg-color);\n",
              "    border: none;\n",
              "    border-radius: 50%;\n",
              "    cursor: pointer;\n",
              "    display: none;\n",
              "    fill: var(--fill-color);\n",
              "    height: 32px;\n",
              "    padding: 0;\n",
              "    width: 32px;\n",
              "  }\n",
              "\n",
              "  .colab-df-quickchart:hover {\n",
              "    background-color: var(--hover-bg-color);\n",
              "    box-shadow: 0 1px 2px rgba(60, 64, 67, 0.3), 0 1px 3px 1px rgba(60, 64, 67, 0.15);\n",
              "    fill: var(--button-hover-fill-color);\n",
              "  }\n",
              "\n",
              "  .colab-df-quickchart-complete:disabled,\n",
              "  .colab-df-quickchart-complete:disabled:hover {\n",
              "    background-color: var(--disabled-bg-color);\n",
              "    fill: var(--disabled-fill-color);\n",
              "    box-shadow: none;\n",
              "  }\n",
              "\n",
              "  .colab-df-spinner {\n",
              "    border: 2px solid var(--fill-color);\n",
              "    border-color: transparent;\n",
              "    border-bottom-color: var(--fill-color);\n",
              "    animation:\n",
              "      spin 1s steps(1) infinite;\n",
              "  }\n",
              "\n",
              "  @keyframes spin {\n",
              "    0% {\n",
              "      border-color: transparent;\n",
              "      border-bottom-color: var(--fill-color);\n",
              "      border-left-color: var(--fill-color);\n",
              "    }\n",
              "    20% {\n",
              "      border-color: transparent;\n",
              "      border-left-color: var(--fill-color);\n",
              "      border-top-color: var(--fill-color);\n",
              "    }\n",
              "    30% {\n",
              "      border-color: transparent;\n",
              "      border-left-color: var(--fill-color);\n",
              "      border-top-color: var(--fill-color);\n",
              "      border-right-color: var(--fill-color);\n",
              "    }\n",
              "    40% {\n",
              "      border-color: transparent;\n",
              "      border-right-color: var(--fill-color);\n",
              "      border-top-color: var(--fill-color);\n",
              "    }\n",
              "    60% {\n",
              "      border-color: transparent;\n",
              "      border-right-color: var(--fill-color);\n",
              "    }\n",
              "    80% {\n",
              "      border-color: transparent;\n",
              "      border-right-color: var(--fill-color);\n",
              "      border-bottom-color: var(--fill-color);\n",
              "    }\n",
              "    90% {\n",
              "      border-color: transparent;\n",
              "      border-bottom-color: var(--fill-color);\n",
              "    }\n",
              "  }\n",
              "</style>\n",
              "\n",
              "  <script>\n",
              "    async function quickchart(key) {\n",
              "      const quickchartButtonEl =\n",
              "        document.querySelector('#' + key + ' button');\n",
              "      quickchartButtonEl.disabled = true;  // To prevent multiple clicks.\n",
              "      quickchartButtonEl.classList.add('colab-df-spinner');\n",
              "      try {\n",
              "        const charts = await google.colab.kernel.invokeFunction(\n",
              "            'suggestCharts', [key], {});\n",
              "      } catch (error) {\n",
              "        console.error('Error during call to suggestCharts:', error);\n",
              "      }\n",
              "      quickchartButtonEl.classList.remove('colab-df-spinner');\n",
              "      quickchartButtonEl.classList.add('colab-df-quickchart-complete');\n",
              "    }\n",
              "    (() => {\n",
              "      let quickchartButtonEl =\n",
              "        document.querySelector('#df-23c7f201-84ab-4479-96d1-02993ecc70f4 button');\n",
              "      quickchartButtonEl.style.display =\n",
              "        google.colab.kernel.accessAllowed ? 'block' : 'none';\n",
              "    })();\n",
              "  </script>\n",
              "</div>\n",
              "    </div>\n",
              "  </div>\n"
            ],
            "application/vnd.google.colaboratory.intrinsic+json": {
              "type": "dataframe",
              "summary": "{\n  \"name\": \"    \\\"\\u043a\\u0441\\u0456 \\u0432 \\u043a\\u0432\\u0430\\u0434\\u0440\\u0430\\u0442\\u0456 (p-value)\\\": [chi_exp, chi_norm, chi_extrem, c_p_value_200, c_p_value_500, c_p_value_5000, x_chi_exp, x_chi_norm, x_chi_extrem, x_c_p_value]})\",\n  \"rows\": 10,\n  \"fields\": [\n    {\n      \"column\": \"\\u041f\\u0435\\u0440\\u0435\\u0432\\u0456\\u0440\\u043a\\u0430\",\n      \"properties\": {\n        \"dtype\": \"category\",\n        \"num_unique_values\": 4,\n        \"samples\": [\n          \"\\u043d\\u0430 \\u043d\\u043e\\u0440\\u043c\\u0430\\u043b\\u044c\\u043d\\u0438\\u0439 \\u0440\\u043e\\u0437\\u043f\\u043e\\u0434\\u0456\\u043b\",\n          \"\\u043d\\u0430 \\u0440\\u0456\\u0432\\u043d\\u043e\\u043c\\u0456\\u0440\\u043d\\u0438\\u0439 \\u0440\\u043e\\u0437\\u043f\\u043e\\u0434\\u0456\\u043b\",\n          \"\\u043d\\u0430 \\u0435\\u043a\\u0441\\u043f\\u043e\\u043d\\u0435\\u043d\\u0446\\u0456\\u0439\\u043d\\u0438\\u0439 \\u0440\\u043e\\u0437\\u043f\\u043e\\u0434\\u0456\\u043b\"\n        ],\n        \"semantic_type\": \"\",\n        \"description\": \"\"\n      }\n    },\n    {\n      \"column\": \"\\u0412\\u0438\\u0431\\u0456\\u0440\\u043a\\u0430\",\n      \"properties\": {\n        \"dtype\": \"string\",\n        \"num_unique_values\": 7,\n        \"samples\": [\n          \"rand_exp\",\n          \"rand_norm\",\n          \"rand_5000\"\n        ],\n        \"semantic_type\": \"\",\n        \"description\": \"\"\n      }\n    },\n    {\n      \"column\": \"\\u041a\\u0440\\u0438\\u0442\\u0435\\u0440\\u0456\\u0439 \\u041a\\u043e\\u043b\\u043c\\u043e\\u0433\\u043e\\u0440\\u043e\\u0432\\u0430-\\u0421\\u043c\\u0438\\u0440\\u043d\\u043e\\u0432\\u0430 (p-value)\",\n      \"properties\": {\n        \"dtype\": \"number\",\n        \"std\": 0.3290807430600279,\n        \"min\": 0.0,\n        \"max\": 0.7397816145779306,\n        \"num_unique_values\": 10,\n        \"samples\": [\n          5.296513626080075e-76,\n          0.6277806291662978,\n          0.7397816145779306\n        ],\n        \"semantic_type\": \"\",\n        \"description\": \"\"\n      }\n    },\n    {\n      \"column\": \"\\u043e\\u043c\\u0435\\u0433\\u0430 \\u0432 \\u043a\\u0432\\u0430\\u0434\\u0440\\u0430\\u0442\\u0456 (p-value)\",\n      \"properties\": {\n        \"dtype\": \"number\",\n        \"std\": 0.20781514472594362,\n        \"min\": 0.0,\n        \"max\": 0.6406499680397479,\n        \"num_unique_values\": 9,\n        \"samples\": [\n          5.263130018264242e-171,\n          7.525973133445612e-66,\n          0.6406499680397479\n        ],\n        \"semantic_type\": \"\",\n        \"description\": \"\"\n      }\n    },\n    {\n      \"column\": \"\\u043a\\u0441\\u0456 \\u0432 \\u043a\\u0432\\u0430\\u0434\\u0440\\u0430\\u0442\\u0456 (p-value)\",\n      \"properties\": {\n        \"dtype\": \"number\",\n        \"std\": 0.47221658711644815,\n        \"min\": 0.0,\n        \"max\": 1.0,\n        \"num_unique_values\": 7,\n        \"samples\": [\n          0.02407063170344186,\n          0.686729372165495,\n          4.783835702068999e-29\n        ],\n        \"semantic_type\": \"\",\n        \"description\": \"\"\n      }\n    }\n  ]\n}"
            }
          },
          "metadata": {},
          "execution_count": 18
        }
      ]
    }
  ]
}